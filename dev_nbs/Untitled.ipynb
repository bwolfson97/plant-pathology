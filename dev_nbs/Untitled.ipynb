{
 "cells": [
  {
   "cell_type": "markdown",
   "metadata": {},
   "source": [
    "# Applying Softmax to Existing Inferences CSVs"
   ]
  },
  {
   "cell_type": "code",
   "execution_count": null,
   "metadata": {},
   "outputs": [],
   "source": [
    "from fastai.vision.all import *"
   ]
  },
  {
   "cell_type": "code",
   "execution_count": null,
   "metadata": {},
   "outputs": [
    {
     "data": {
      "text/plain": [
       "(#9) [Path('/home/jupyter/kaggle/plant-pathology/exps/resnet50/predictions_fold_4.csv'),Path('/home/jupyter/kaggle/plant-pathology/exps/resnet50/pseudo_labels.csv'),Path('/home/jupyter/kaggle/plant-pathology/exps/resnet50/log.txt'),Path('/home/jupyter/kaggle/plant-pathology/exps/resnet50/.ipynb_checkpoints'),Path('/home/jupyter/kaggle/plant-pathology/exps/resnet50/predictions_fold_1.csv'),Path('/home/jupyter/kaggle/plant-pathology/exps/resnet50/predictions_fold_2.csv'),Path('/home/jupyter/kaggle/plant-pathology/exps/resnet50/predictions_fold_0.csv'),Path('/home/jupyter/kaggle/plant-pathology/exps/resnet50/predictions_fold_3.csv'),Path('/home/jupyter/kaggle/plant-pathology/exps/resnet50/averaged_predictions.csv')]"
      ]
     },
     "execution_count": null,
     "metadata": {},
     "output_type": "execute_result"
    }
   ],
   "source": [
    "path = Path(\"/home/jupyter/kaggle/plant-pathology/exps/resnet50/\"); path.ls()"
   ]
  },
  {
   "cell_type": "code",
   "execution_count": null,
   "metadata": {},
   "outputs": [],
   "source": [
    "for i in range(5):\n",
    "    file = path/f\"predictions_fold_{i}.csv\"\n",
    "    df = pd.read_csv(file)\n",
    "    break"
   ]
  },
  {
   "cell_type": "code",
   "execution_count": null,
   "metadata": {},
   "outputs": [
    {
     "data": {
      "text/html": [
       "<div>\n",
       "<style scoped>\n",
       "    .dataframe tbody tr th:only-of-type {\n",
       "        vertical-align: middle;\n",
       "    }\n",
       "\n",
       "    .dataframe tbody tr th {\n",
       "        vertical-align: top;\n",
       "    }\n",
       "\n",
       "    .dataframe thead th {\n",
       "        text-align: right;\n",
       "    }\n",
       "</style>\n",
       "<table border=\"1\" class=\"dataframe\">\n",
       "  <thead>\n",
       "    <tr style=\"text-align: right;\">\n",
       "      <th></th>\n",
       "      <th>image_id</th>\n",
       "      <th>healthy</th>\n",
       "      <th>multiple_diseases</th>\n",
       "      <th>rust</th>\n",
       "      <th>scab</th>\n",
       "    </tr>\n",
       "  </thead>\n",
       "  <tbody>\n",
       "    <tr>\n",
       "      <th>0</th>\n",
       "      <td>Test_0</td>\n",
       "      <td>0.021315</td>\n",
       "      <td>0.023831</td>\n",
       "      <td>0.933211</td>\n",
       "      <td>0.021643</td>\n",
       "    </tr>\n",
       "    <tr>\n",
       "      <th>1</th>\n",
       "      <td>Test_1</td>\n",
       "      <td>0.022957</td>\n",
       "      <td>0.040021</td>\n",
       "      <td>0.905415</td>\n",
       "      <td>0.031607</td>\n",
       "    </tr>\n",
       "    <tr>\n",
       "      <th>2</th>\n",
       "      <td>Test_2</td>\n",
       "      <td>0.019066</td>\n",
       "      <td>0.022804</td>\n",
       "      <td>0.022321</td>\n",
       "      <td>0.935809</td>\n",
       "    </tr>\n",
       "    <tr>\n",
       "      <th>3</th>\n",
       "      <td>Test_3</td>\n",
       "      <td>0.950640</td>\n",
       "      <td>0.008914</td>\n",
       "      <td>0.028596</td>\n",
       "      <td>0.011850</td>\n",
       "    </tr>\n",
       "    <tr>\n",
       "      <th>4</th>\n",
       "      <td>Test_4</td>\n",
       "      <td>0.024369</td>\n",
       "      <td>0.031967</td>\n",
       "      <td>0.915583</td>\n",
       "      <td>0.028081</td>\n",
       "    </tr>\n",
       "    <tr>\n",
       "      <th>...</th>\n",
       "      <td>...</td>\n",
       "      <td>...</td>\n",
       "      <td>...</td>\n",
       "      <td>...</td>\n",
       "      <td>...</td>\n",
       "    </tr>\n",
       "    <tr>\n",
       "      <th>1816</th>\n",
       "      <td>Test_1816</td>\n",
       "      <td>0.024624</td>\n",
       "      <td>0.041655</td>\n",
       "      <td>0.903764</td>\n",
       "      <td>0.029957</td>\n",
       "    </tr>\n",
       "    <tr>\n",
       "      <th>1817</th>\n",
       "      <td>Test_1817</td>\n",
       "      <td>0.024164</td>\n",
       "      <td>0.521163</td>\n",
       "      <td>0.037871</td>\n",
       "      <td>0.416802</td>\n",
       "    </tr>\n",
       "    <tr>\n",
       "      <th>1818</th>\n",
       "      <td>Test_1818</td>\n",
       "      <td>0.022549</td>\n",
       "      <td>0.025388</td>\n",
       "      <td>0.927716</td>\n",
       "      <td>0.024348</td>\n",
       "    </tr>\n",
       "    <tr>\n",
       "      <th>1819</th>\n",
       "      <td>Test_1819</td>\n",
       "      <td>0.907196</td>\n",
       "      <td>0.038491</td>\n",
       "      <td>0.034151</td>\n",
       "      <td>0.020161</td>\n",
       "    </tr>\n",
       "    <tr>\n",
       "      <th>1820</th>\n",
       "      <td>Test_1820</td>\n",
       "      <td>0.025596</td>\n",
       "      <td>0.040959</td>\n",
       "      <td>0.022594</td>\n",
       "      <td>0.910852</td>\n",
       "    </tr>\n",
       "  </tbody>\n",
       "</table>\n",
       "<p>1821 rows × 5 columns</p>\n",
       "</div>"
      ],
      "text/plain": [
       "       image_id   healthy  multiple_diseases      rust      scab\n",
       "0        Test_0  0.021315           0.023831  0.933211  0.021643\n",
       "1        Test_1  0.022957           0.040021  0.905415  0.031607\n",
       "2        Test_2  0.019066           0.022804  0.022321  0.935809\n",
       "3        Test_3  0.950640           0.008914  0.028596  0.011850\n",
       "4        Test_4  0.024369           0.031967  0.915583  0.028081\n",
       "...         ...       ...                ...       ...       ...\n",
       "1816  Test_1816  0.024624           0.041655  0.903764  0.029957\n",
       "1817  Test_1817  0.024164           0.521163  0.037871  0.416802\n",
       "1818  Test_1818  0.022549           0.025388  0.927716  0.024348\n",
       "1819  Test_1819  0.907196           0.038491  0.034151  0.020161\n",
       "1820  Test_1820  0.025596           0.040959  0.022594  0.910852\n",
       "\n",
       "[1821 rows x 5 columns]"
      ]
     },
     "execution_count": null,
     "metadata": {},
     "output_type": "execute_result"
    }
   ],
   "source": [
    "df"
   ]
  },
  {
   "cell_type": "code",
   "execution_count": null,
   "metadata": {},
   "outputs": [],
   "source": []
  }
 ],
 "metadata": {
  "kernelspec": {
   "display_name": "Python 3",
   "language": "python",
   "name": "python3"
  }
 },
 "nbformat": 4,
 "nbformat_minor": 4
}
