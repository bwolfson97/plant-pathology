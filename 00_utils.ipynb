{
 "cells": [
  {
   "cell_type": "code",
   "execution_count": null,
   "metadata": {},
   "outputs": [],
   "source": [
    "# default_exp utils"
   ]
  },
  {
   "cell_type": "markdown",
   "metadata": {},
   "source": [
    "# Utils\n",
    "\n",
    "> This file holds function to load the data and create folds for cross-validation."
   ]
  },
  {
   "cell_type": "code",
   "execution_count": null,
   "metadata": {},
   "outputs": [],
   "source": [
    "#hide\n",
    "from nbdev.showdoc import *"
   ]
  },
  {
   "cell_type": "code",
   "execution_count": null,
   "metadata": {},
   "outputs": [],
   "source": [
    "#export\n",
    "from fastai.vision.all import *\n",
    "from sklearn.model_selection import StratifiedKFold"
   ]
  },
  {
   "cell_type": "markdown",
   "metadata": {},
   "source": [
    "## Load Data"
   ]
  },
  {
   "cell_type": "code",
   "execution_count": null,
   "metadata": {},
   "outputs": [],
   "source": [
    "#export\n",
    "def load_data(with_folds=True) -> (Path, pd.DataFrame):\n",
    "    path = Path(\"/home/jupyter/kaggle/plant-pathology/data/plant-pathology-2020/\")\n",
    "    path_train = path/('train_folds.csv' if with_folds else 'train.csv')\n",
    "    df_train = pd.read_csv(path_train)\n",
    "    return path, df_train"
   ]
  },
  {
   "cell_type": "code",
   "execution_count": null,
   "metadata": {},
   "outputs": [],
   "source": [
    "path, df = load_data()\n",
    "df.head(), path.ls()"
   ]
  },
  {
   "cell_type": "markdown",
   "metadata": {},
   "source": [
    "## Create Folds"
   ]
  },
  {
   "cell_type": "code",
   "execution_count": null,
   "metadata": {},
   "outputs": [],
   "source": [
    "#export\n",
    "def create_folds(path: Path, df: pd.DataFrame, prn_stats: bool = False) -> pd.DataFrame:\n",
    "    df = df.sample(frac=1.0, random_state=42).reset_index(drop=True)\n",
    "    lbls = df.apply(lambda r: df.columns[r==1].item(), axis=1)\n",
    "    \n",
    "    # Create 5 folds\n",
    "    kf = StratifiedKFold(n_splits=5)\n",
    "    for fold, (train_idxs, val_idxs) in enumerate(kf.split(df, lbls.values)):\n",
    "        print(f\"Fold {fold}: {len(train_idxs)/len(df)}, {len(val_idxs)/len(df)}\")\n",
    "        df.loc[val_idxs, \"fold\"] = fold\n",
    "        \n",
    "    if prn_stats: print(df.groupby(\"fold\").describe())\n",
    "    \n",
    "    # Save to file\n",
    "    df.to_csv(path/\"train_folds.csv\", index=False)\n",
    "    return df"
   ]
  },
  {
   "cell_type": "code",
   "execution_count": null,
   "metadata": {},
   "outputs": [],
   "source": [
    "path, df = load_data(False)\n",
    "create_folds(path, df).head()"
   ]
  },
  {
   "cell_type": "markdown",
   "metadata": {},
   "source": [
    "## Print Command to Submit to Kaggle"
   ]
  },
  {
   "cell_type": "code",
   "execution_count": null,
   "metadata": {},
   "outputs": [],
   "source": [
    "def kaggle_submit_command() -> str:\n",
    "    print(\"!kaggle competitions submit -c plant-pathology-2020-fgvc7 -f {save_path} -m 'hi'\")"
   ]
  },
  {
   "cell_type": "code",
   "execution_count": null,
   "metadata": {},
   "outputs": [
    {
     "name": "stdout",
     "output_type": "stream",
     "text": [
      "!kaggle competitions submit -c plant-pathology-2020-fgvc7 -f {save_path} -m 'hi'\n"
     ]
    }
   ],
   "source": [
    "kaggle_submit_command()"
   ]
  },
  {
   "cell_type": "code",
   "execution_count": null,
   "metadata": {},
   "outputs": [],
   "source": []
  }
 ],
 "metadata": {
  "kernelspec": {
   "display_name": "Python 3",
   "language": "python",
   "name": "python3"
  }
 },
 "nbformat": 4,
 "nbformat_minor": 4
}
