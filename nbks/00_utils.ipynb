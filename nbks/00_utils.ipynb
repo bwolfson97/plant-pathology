{
 "cells": [
  {
   "cell_type": "code",
   "execution_count": null,
   "metadata": {},
   "outputs": [],
   "source": [
    "# default_exp utils"
   ]
  },
  {
   "cell_type": "markdown",
   "metadata": {},
   "source": [
    "# Utils\n",
    "\n",
    "> This file holds function to load the data and create folds for cross-validation."
   ]
  },
  {
   "cell_type": "code",
   "execution_count": null,
   "metadata": {},
   "outputs": [],
   "source": [
    "#hide\n",
    "from nbdev.showdoc import *"
   ]
  },
  {
   "cell_type": "code",
   "execution_count": null,
   "metadata": {},
   "outputs": [],
   "source": [
    "#export\n",
    "from fastcore.all import *\n",
    "import pandas as pd\n",
    "from sklearn.model_selection import StratifiedKFold"
   ]
  },
  {
   "cell_type": "markdown",
   "metadata": {},
   "source": [
    "## Load Data"
   ]
  },
  {
   "cell_type": "code",
   "execution_count": null,
   "metadata": {},
   "outputs": [],
   "source": [
    "#export\n",
    "def load_data(with_folds=True, path_pseudo_labels: str=None) -> (Path, pd.DataFrame):\n",
    "    path = Path(\"/home/jupyter/kaggle/plant-pathology/data/plant-pathology-2020/\")\n",
    "    path_train = path/('train_folds.csv' if with_folds else 'train.csv')\n",
    "    df_train = pd.read_csv(path_train)\n",
    "    if path_pseudo_labels is not None:\n",
    "        pseudo_labels = pd.read_csv(path_pseudo_labels)\n",
    "        df_train = pd.concat([df_train, pseudo_labels], ignore_index=True)\n",
    "    return path, df_train"
   ]
  },
  {
   "cell_type": "code",
   "execution_count": null,
   "metadata": {},
   "outputs": [
    {
     "data": {
      "text/plain": [
       "(     image_id  healthy  multiple_diseases  rust  scab  fold\n",
       " 0  Train_1511        0                  0     1     0   0.0\n",
       " 1  Train_1799        1                  0     0     0   0.0\n",
       " 2   Train_135        1                  0     0     0   0.0\n",
       " 3   Train_408        0                  0     1     0   0.0\n",
       " 4  Train_1693        1                  0     0     0   0.0,\n",
       " (#13) [Path('/home/jupyter/kaggle/plant-pathology/data/plant-pathology-2020/test.csv'),Path('/home/jupyter/kaggle/plant-pathology/data/plant-pathology-2020/train_folds.csv'),Path('/home/jupyter/kaggle/plant-pathology/data/plant-pathology-2020/images'),Path('/home/jupyter/kaggle/plant-pathology/data/plant-pathology-2020/predictions_fold_4.csv'),Path('/home/jupyter/kaggle/plant-pathology/data/plant-pathology-2020/TESTING.csv'),Path('/home/jupyter/kaggle/plant-pathology/data/plant-pathology-2020/.ipynb_checkpoints'),Path('/home/jupyter/kaggle/plant-pathology/data/plant-pathology-2020/predictions_fold_1.csv'),Path('/home/jupyter/kaggle/plant-pathology/data/plant-pathology-2020/train.csv'),Path('/home/jupyter/kaggle/plant-pathology/data/plant-pathology-2020/submission.csv'),Path('/home/jupyter/kaggle/plant-pathology/data/plant-pathology-2020/sample_submission.csv')...],\n",
       " 1821)"
      ]
     },
     "execution_count": null,
     "metadata": {},
     "output_type": "execute_result"
    }
   ],
   "source": [
    "path, df = load_data()\n",
    "df.head(), path.ls(), len(df)"
   ]
  },
  {
   "cell_type": "code",
   "execution_count": null,
   "metadata": {},
   "outputs": [
    {
     "data": {
      "text/html": [
       "<div>\n",
       "<style scoped>\n",
       "    .dataframe tbody tr th:only-of-type {\n",
       "        vertical-align: middle;\n",
       "    }\n",
       "\n",
       "    .dataframe tbody tr th {\n",
       "        vertical-align: top;\n",
       "    }\n",
       "\n",
       "    .dataframe thead th {\n",
       "        text-align: right;\n",
       "    }\n",
       "</style>\n",
       "<table border=\"1\" class=\"dataframe\">\n",
       "  <thead>\n",
       "    <tr style=\"text-align: right;\">\n",
       "      <th></th>\n",
       "      <th>image_id</th>\n",
       "      <th>healthy</th>\n",
       "      <th>multiple_diseases</th>\n",
       "      <th>rust</th>\n",
       "      <th>scab</th>\n",
       "      <th>fold</th>\n",
       "    </tr>\n",
       "  </thead>\n",
       "  <tbody>\n",
       "    <tr>\n",
       "      <th>0</th>\n",
       "      <td>Train_1511</td>\n",
       "      <td>0.000000e+00</td>\n",
       "      <td>0.000000e+00</td>\n",
       "      <td>1.000000</td>\n",
       "      <td>0.000000e+00</td>\n",
       "      <td>0.0</td>\n",
       "    </tr>\n",
       "    <tr>\n",
       "      <th>1</th>\n",
       "      <td>Train_1799</td>\n",
       "      <td>1.000000e+00</td>\n",
       "      <td>0.000000e+00</td>\n",
       "      <td>0.000000</td>\n",
       "      <td>0.000000e+00</td>\n",
       "      <td>0.0</td>\n",
       "    </tr>\n",
       "    <tr>\n",
       "      <th>2</th>\n",
       "      <td>Train_135</td>\n",
       "      <td>1.000000e+00</td>\n",
       "      <td>0.000000e+00</td>\n",
       "      <td>0.000000</td>\n",
       "      <td>0.000000e+00</td>\n",
       "      <td>0.0</td>\n",
       "    </tr>\n",
       "    <tr>\n",
       "      <th>3</th>\n",
       "      <td>Train_408</td>\n",
       "      <td>0.000000e+00</td>\n",
       "      <td>0.000000e+00</td>\n",
       "      <td>1.000000</td>\n",
       "      <td>0.000000e+00</td>\n",
       "      <td>0.0</td>\n",
       "    </tr>\n",
       "    <tr>\n",
       "      <th>4</th>\n",
       "      <td>Train_1693</td>\n",
       "      <td>1.000000e+00</td>\n",
       "      <td>0.000000e+00</td>\n",
       "      <td>0.000000</td>\n",
       "      <td>0.000000e+00</td>\n",
       "      <td>0.0</td>\n",
       "    </tr>\n",
       "    <tr>\n",
       "      <th>...</th>\n",
       "      <td>...</td>\n",
       "      <td>...</td>\n",
       "      <td>...</td>\n",
       "      <td>...</td>\n",
       "      <td>...</td>\n",
       "      <td>...</td>\n",
       "    </tr>\n",
       "    <tr>\n",
       "      <th>3200</th>\n",
       "      <td>Test_1815</td>\n",
       "      <td>1.739019e-07</td>\n",
       "      <td>3.421622e-07</td>\n",
       "      <td>1.000000</td>\n",
       "      <td>4.958453e-10</td>\n",
       "      <td>-1.0</td>\n",
       "    </tr>\n",
       "    <tr>\n",
       "      <th>3201</th>\n",
       "      <td>Test_1816</td>\n",
       "      <td>3.261356e-08</td>\n",
       "      <td>1.696263e-05</td>\n",
       "      <td>0.999983</td>\n",
       "      <td>1.126221e-11</td>\n",
       "      <td>-1.0</td>\n",
       "    </tr>\n",
       "    <tr>\n",
       "      <th>3202</th>\n",
       "      <td>Test_1818</td>\n",
       "      <td>1.389328e-07</td>\n",
       "      <td>1.130557e-04</td>\n",
       "      <td>0.999887</td>\n",
       "      <td>4.712892e-10</td>\n",
       "      <td>-1.0</td>\n",
       "    </tr>\n",
       "    <tr>\n",
       "      <th>3203</th>\n",
       "      <td>Test_1819</td>\n",
       "      <td>9.999977e-01</td>\n",
       "      <td>1.068754e-06</td>\n",
       "      <td>0.000001</td>\n",
       "      <td>2.593171e-07</td>\n",
       "      <td>-1.0</td>\n",
       "    </tr>\n",
       "    <tr>\n",
       "      <th>3204</th>\n",
       "      <td>Test_1820</td>\n",
       "      <td>1.067549e-04</td>\n",
       "      <td>1.290270e-02</td>\n",
       "      <td>0.000003</td>\n",
       "      <td>9.869872e-01</td>\n",
       "      <td>-1.0</td>\n",
       "    </tr>\n",
       "  </tbody>\n",
       "</table>\n",
       "<p>3205 rows × 6 columns</p>\n",
       "</div>"
      ],
      "text/plain": [
       "        image_id       healthy  multiple_diseases      rust          scab  \\\n",
       "0     Train_1511  0.000000e+00       0.000000e+00  1.000000  0.000000e+00   \n",
       "1     Train_1799  1.000000e+00       0.000000e+00  0.000000  0.000000e+00   \n",
       "2      Train_135  1.000000e+00       0.000000e+00  0.000000  0.000000e+00   \n",
       "3      Train_408  0.000000e+00       0.000000e+00  1.000000  0.000000e+00   \n",
       "4     Train_1693  1.000000e+00       0.000000e+00  0.000000  0.000000e+00   \n",
       "...          ...           ...                ...       ...           ...   \n",
       "3200   Test_1815  1.739019e-07       3.421622e-07  1.000000  4.958453e-10   \n",
       "3201   Test_1816  3.261356e-08       1.696263e-05  0.999983  1.126221e-11   \n",
       "3202   Test_1818  1.389328e-07       1.130557e-04  0.999887  4.712892e-10   \n",
       "3203   Test_1819  9.999977e-01       1.068754e-06  0.000001  2.593171e-07   \n",
       "3204   Test_1820  1.067549e-04       1.290270e-02  0.000003  9.869872e-01   \n",
       "\n",
       "      fold  \n",
       "0      0.0  \n",
       "1      0.0  \n",
       "2      0.0  \n",
       "3      0.0  \n",
       "4      0.0  \n",
       "...    ...  \n",
       "3200  -1.0  \n",
       "3201  -1.0  \n",
       "3202  -1.0  \n",
       "3203  -1.0  \n",
       "3204  -1.0  \n",
       "\n",
       "[3205 rows x 6 columns]"
      ]
     },
     "execution_count": null,
     "metadata": {},
     "output_type": "execute_result"
    }
   ],
   "source": [
    "path, df = load_data(path_pseudo_labels=\"~/kaggle/plant-pathology/exps/baseline/TESTING_PSEUDO_LABELS.csv\")\n",
    "df"
   ]
  },
  {
   "cell_type": "markdown",
   "metadata": {},
   "source": [
    "## Create Folds"
   ]
  },
  {
   "cell_type": "code",
   "execution_count": null,
   "metadata": {},
   "outputs": [],
   "source": [
    "#export\n",
    "def create_folds(path: Path, df: pd.DataFrame, prn_stats: bool = False) -> pd.DataFrame:\n",
    "    df = df.sample(frac=1.0, random_state=42).reset_index(drop=True)\n",
    "    lbls = df.apply(lambda r: df.columns[r==1].item(), axis=1)\n",
    "    \n",
    "    # Create 5 folds\n",
    "    kf = StratifiedKFold(n_splits=5)\n",
    "    for fold, (train_idxs, val_idxs) in enumerate(kf.split(df, lbls.values)):\n",
    "        print(f\"Fold {fold}: {len(train_idxs)/len(df)}, {len(val_idxs)/len(df)}\")\n",
    "        df.loc[val_idxs, \"fold\"] = fold\n",
    "        \n",
    "    if prn_stats: print(df.groupby(\"fold\").describe())\n",
    "    \n",
    "    # Save to file\n",
    "    df.to_csv(path/\"train_folds.csv\", index=False)\n",
    "    return df"
   ]
  },
  {
   "cell_type": "code",
   "execution_count": null,
   "metadata": {},
   "outputs": [],
   "source": [
    "path, df = load_data(False)\n",
    "create_folds(path, df).head()"
   ]
  },
  {
   "cell_type": "markdown",
   "metadata": {},
   "source": [
    "## Print Command to Submit to Kaggle"
   ]
  },
  {
   "cell_type": "code",
   "execution_count": null,
   "metadata": {},
   "outputs": [],
   "source": [
    "#export\n",
    "def kaggle_submit_command() -> str:\n",
    "    print(\"!kaggle competitions submit -c plant-pathology-2020-fgvc7 -f {submission_path} -m 'hi'\")"
   ]
  },
  {
   "cell_type": "code",
   "execution_count": null,
   "metadata": {},
   "outputs": [
    {
     "name": "stdout",
     "output_type": "stream",
     "text": [
      "!kaggle competitions submit -c plant-pathology-2020-fgvc7 -f {submission_path} -m 'hi'\n"
     ]
    }
   ],
   "source": [
    "kaggle_submit_command()"
   ]
  },
  {
   "cell_type": "markdown",
   "metadata": {},
   "source": [
    "## Average Predictions"
   ]
  },
  {
   "cell_type": "code",
   "execution_count": null,
   "metadata": {},
   "outputs": [],
   "source": [
    "#export\n",
    "def average_preds(path: Path) -> pd.DataFrame:\n",
    "    dfs = pd.concat([pd.read_csv(f) for f in path.glob(\"predictions_fold_[0-9].csv\")])\n",
    "    avg_preds = dfs.groupby(dfs.index).mean()\n",
    "    avg_preds.insert(0, \"image_id\", dfs[\"image_id\"].unique())\n",
    "    return avg_preds"
   ]
  },
  {
   "cell_type": "code",
   "execution_count": null,
   "metadata": {},
   "outputs": [
    {
     "data": {
      "text/plain": [
       "(#5) [Path('/home/jupyter/kaggle/plant-pathology/exps/baseline/log.txt'),Path('/home/jupyter/kaggle/plant-pathology/exps/baseline/.ipynb_checkpoints'),Path('/home/jupyter/kaggle/plant-pathology/exps/baseline/predictions_fold_1.csv'),Path('/home/jupyter/kaggle/plant-pathology/exps/baseline/predictions_fold_2.csv'),Path('/home/jupyter/kaggle/plant-pathology/exps/baseline/predictions_fold_3.csv')]"
      ]
     },
     "execution_count": null,
     "metadata": {},
     "output_type": "execute_result"
    }
   ],
   "source": [
    "path = Path(\"/home/jupyter/kaggle/plant-pathology/exps/baseline/\"); path.ls()"
   ]
  },
  {
   "cell_type": "code",
   "execution_count": null,
   "metadata": {},
   "outputs": [],
   "source": [
    "df = average_preds(path)\n",
    "\n",
    "test_eq(len(df), 1821)"
   ]
  },
  {
   "cell_type": "markdown",
   "metadata": {},
   "source": [
    "### Save Averaged Preds"
   ]
  },
  {
   "cell_type": "code",
   "execution_count": null,
   "metadata": {},
   "outputs": [],
   "source": [
    "#export\n",
    "@call_parse\n",
    "def save_average_preds(\n",
    "    path: Param(\"Path to prediction CSVs\", Path)=\".\", \n",
    "    name: Param(\"Name\", str)=\"averaged_predictions.csv\",\n",
    ") -> Path:\n",
    "    \"\"\"Average predictions from multiple folds.\"\"\"\n",
    "    avg_preds = average_preds(path)\n",
    "    avg_preds.to_csv(path/name, index=False)\n",
    "    return path/name"
   ]
  },
  {
   "cell_type": "code",
   "execution_count": null,
   "metadata": {},
   "outputs": [],
   "source": [
    "avg_preds_path = save_average_preds(path, name=\"TESTING_AVG_PREDS.csv\")\n",
    "\n",
    "assert avg_preds_path.exists()\n",
    "avg_preds_path.unlink()"
   ]
  },
  {
   "cell_type": "code",
   "execution_count": null,
   "metadata": {},
   "outputs": [
    {
     "name": "stdout",
     "output_type": "stream",
     "text": [
      "Converted 00_utils.ipynb.\n",
      "Converted 01_dataset.ipynb.\n",
      "Converted 02_evaluate.ipynb.\n",
      "Converted 03_train.ipynb.\n",
      "Converted 04_generate_pseudo_labels.ipynb.\n",
      "Converted index.ipynb.\n"
     ]
    }
   ],
   "source": [
    "#hide \n",
    "from nbdev.export import *\n",
    "notebook2script()"
   ]
  },
  {
   "cell_type": "code",
   "execution_count": null,
   "metadata": {},
   "outputs": [],
   "source": []
  }
 ],
 "metadata": {
  "kernelspec": {
   "display_name": "Python 3",
   "language": "python",
   "name": "python3"
  }
 },
 "nbformat": 4,
 "nbformat_minor": 4
}
