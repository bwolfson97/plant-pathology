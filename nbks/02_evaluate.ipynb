{
 "cells": [
  {
   "cell_type": "code",
   "execution_count": null,
   "metadata": {},
   "outputs": [],
   "source": [
    "# default_exp evaluate"
   ]
  },
  {
   "cell_type": "code",
   "execution_count": null,
   "metadata": {},
   "outputs": [],
   "source": [
    "%load_ext autoreload\n",
    "%autoreload 2"
   ]
  },
  {
   "cell_type": "markdown",
   "metadata": {},
   "source": [
    "# Evaluate\n",
    "\n",
    "> This module contains functions to infer on the test set and generate the final submission file for Kaggle."
   ]
  },
  {
   "cell_type": "code",
   "execution_count": null,
   "metadata": {},
   "outputs": [],
   "source": [
    "#hide\n",
    "from nbdev.showdoc import *\n",
    "from plant_pathology.utils import *\n",
    "from plant_pathology.dataset import *\n",
    "from wwf.vision.timm import *\n",
    "import timm"
   ]
  },
  {
   "cell_type": "code",
   "execution_count": null,
   "metadata": {},
   "outputs": [],
   "source": [
    "#export\n",
    "from fastai.vision.all import *\n",
    "from typing import *"
   ]
  },
  {
   "cell_type": "markdown",
   "metadata": {},
   "source": [
    "## Infer on Test Set"
   ]
  },
  {
   "cell_type": "code",
   "execution_count": null,
   "metadata": {},
   "outputs": [],
   "source": [
    "#export\n",
    "def infer_on_test_set(learn: Learner, tta: bool=False) -> Tensor:\n",
    "    path_test = Path(\"~/kaggle/plant-pathology/data/plant-pathology-2020/test.csv\")\n",
    "    df_test = pd.read_csv(path_test)\n",
    "    test_dl = learn.dls.test_dl(df_test)\n",
    "    preds, _ = (learn.tta if tta else learn.get_preds)(dl=test_dl)\n",
    "    return preds"
   ]
  },
  {
   "cell_type": "code",
   "execution_count": null,
   "metadata": {},
   "outputs": [],
   "source": [
    "#hide\n",
    "path, df = load_data()\n",
    "dls = get_dls(path, df)"
   ]
  },
  {
   "cell_type": "code",
   "execution_count": null,
   "metadata": {},
   "outputs": [],
   "source": [
    "learn = cnn_learner(dls, resnet18)\n",
    "preds = infer_on_test_set(learn, tta=True)\n",
    "\n",
    "test_close(preds.sum(1), 1.)  # cnn_learner applies softmax after tta"
   ]
  },
  {
   "cell_type": "code",
   "execution_count": null,
   "metadata": {},
   "outputs": [
    {
     "data": {
      "text/html": [
       "\n",
       "    <div>\n",
       "        <style>\n",
       "            /* Turns off some styling */\n",
       "            progress {\n",
       "                /* gets rid of default border in Firefox and Opera. */\n",
       "                border: none;\n",
       "                /* Needs to be in here for Safari polyfill so background images work as expected. */\n",
       "                background-size: auto;\n",
       "            }\n",
       "            .progress-bar-interrupted, .progress-bar-interrupted::-webkit-progress-bar {\n",
       "                background: #F44336;\n",
       "            }\n",
       "        </style>\n",
       "      <progress value='0' class='' max='1' style='width:300px; height:20px; vertical-align: middle;'></progress>\n",
       "      \n",
       "    </div>\n",
       "    \n"
      ],
      "text/plain": [
       "<IPython.core.display.HTML object>"
      ]
     },
     "metadata": {},
     "output_type": "display_data"
    },
    {
     "data": {
      "text/html": [],
      "text/plain": [
       "<IPython.core.display.HTML object>"
      ]
     },
     "metadata": {},
     "output_type": "display_data"
    }
   ],
   "source": [
    "timm_learn = timm_learner(dls, \"seresnext26d_32x4d\")\n",
    "preds = infer_on_test_set(timm_learn, tta=True)"
   ]
  },
  {
   "cell_type": "code",
   "execution_count": null,
   "metadata": {},
   "outputs": [
    {
     "data": {
      "text/plain": [
       "tensor([[8.7005e-01, 1.8312e-03, 1.2757e-01, 5.4920e-04],\n",
       "        [6.1381e-01, 2.4086e-01, 1.3975e-01, 5.5811e-03],\n",
       "        [9.9843e-01, 1.1407e-03, 3.3470e-04, 9.0708e-05],\n",
       "        ...,\n",
       "        [7.8401e-01, 3.3753e-02, 1.6062e-01, 2.1611e-02],\n",
       "        [7.9484e-01, 2.0938e-02, 1.5667e-01, 2.7547e-02],\n",
       "        [8.1854e-01, 5.1929e-03, 1.7611e-01, 1.5711e-04]])"
      ]
     },
     "execution_count": null,
     "metadata": {},
     "output_type": "execute_result"
    }
   ],
   "source": [
    "preds"
   ]
  },
  {
   "cell_type": "markdown",
   "metadata": {},
   "source": [
    "## Format Submission"
   ]
  },
  {
   "cell_type": "code",
   "execution_count": null,
   "metadata": {},
   "outputs": [],
   "source": [
    "#export\n",
    "def format_submission(preds: Tensor, save_path: Union[Path, str]) -> Path:\n",
    "    data_path = Path(\"/home/jupyter/kaggle/plant-pathology/data/plant-pathology-2020/\")\n",
    "    submission = pd.read_csv(data_path/\"sample_submission.csv\")\n",
    "    \n",
    "    # Update cols with preds\n",
    "    submission[\"healthy\"] = preds[:, 0]\n",
    "    submission[\"multiple_diseases\"] = preds[:, 1]\n",
    "    submission[\"rust\"] = preds[:, 2]\n",
    "    submission[\"scab\"] = preds[:, 3]\n",
    "    \n",
    "    # Make parent dirs\n",
    "    save_path = Path(save_path)\n",
    "    Path(save_path.parent).mkdir(parents=True, exist_ok=True)\n",
    "    submission.to_csv(save_path, index=False)\n",
    "    return save_path"
   ]
  },
  {
   "cell_type": "code",
   "execution_count": null,
   "metadata": {},
   "outputs": [
    {
     "data": {
      "text/plain": [
       "Path('TESTING.csv')"
      ]
     },
     "execution_count": null,
     "metadata": {},
     "output_type": "execute_result"
    }
   ],
   "source": [
    "fake_preds = torch.zeros(1821, 4)\n",
    "save_path = format_submission(fake_preds, \"TESTING.csv\"); save_path"
   ]
  },
  {
   "cell_type": "code",
   "execution_count": null,
   "metadata": {},
   "outputs": [],
   "source": [
    "assert save_path.exists()"
   ]
  },
  {
   "cell_type": "code",
   "execution_count": null,
   "metadata": {},
   "outputs": [],
   "source": [
    "save_path.unlink()"
   ]
  },
  {
   "cell_type": "markdown",
   "metadata": {},
   "source": [
    "## All-in-One Learner -> Submission Function"
   ]
  },
  {
   "cell_type": "code",
   "execution_count": null,
   "metadata": {},
   "outputs": [],
   "source": [
    "#export\n",
    "def evaluate(learn: Learner, save_path: Union[Path, str]=Path(\"./submission.csv\"), tta: bool=False) -> Path:\n",
    "    \"\"\"Takes trained learner, evaluates on test set, formats and saves submission.csv.\"\"\"\n",
    "    preds = infer_on_test_set(learn, tta=tta)\n",
    "    return format_submission(preds, save_path)"
   ]
  },
  {
   "cell_type": "code",
   "execution_count": null,
   "metadata": {},
   "outputs": [
    {
     "name": "stdout",
     "output_type": "stream",
     "text": [
      "Converted 00_utils.ipynb.\n",
      "Converted 01_dataset.ipynb.\n",
      "Converted 02_evaluate.ipynb.\n",
      "Converted 03_train.ipynb.\n",
      "Converted 04_generate_pseudo_labels.ipynb.\n",
      "Converted index.ipynb.\n"
     ]
    }
   ],
   "source": [
    "#hide\n",
    "from nbdev.export import *\n",
    "notebook2script()"
   ]
  },
  {
   "cell_type": "code",
   "execution_count": null,
   "metadata": {},
   "outputs": [],
   "source": []
  }
 ],
 "metadata": {
  "kernelspec": {
   "display_name": "Python 3",
   "language": "python",
   "name": "python3"
  }
 },
 "nbformat": 4,
 "nbformat_minor": 4
}
