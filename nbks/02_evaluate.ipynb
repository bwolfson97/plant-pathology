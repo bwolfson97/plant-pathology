{
 "cells": [
  {
   "cell_type": "code",
   "execution_count": null,
   "metadata": {},
   "outputs": [],
   "source": [
    "# default_exp evaluate"
   ]
  },
  {
   "cell_type": "code",
   "execution_count": null,
   "metadata": {},
   "outputs": [],
   "source": [
    "%load_ext autoreload\n",
    "%autoreload 2"
   ]
  },
  {
   "cell_type": "markdown",
   "metadata": {},
   "source": [
    "# Evaluate\n",
    "\n",
    "> This module contains functions to infer on the test set and generate the final submission file for Kaggle."
   ]
  },
  {
   "cell_type": "code",
   "execution_count": null,
   "metadata": {},
   "outputs": [],
   "source": [
    "#hide\n",
    "from nbdev.showdoc import *\n",
    "from plant_pathology.utils import *\n",
    "from plant_pathology.dataset import *"
   ]
  },
  {
   "cell_type": "code",
   "execution_count": null,
   "metadata": {},
   "outputs": [],
   "source": [
    "#export\n",
    "from fastai.vision.all import *\n",
    "from typing import *"
   ]
  },
  {
   "cell_type": "markdown",
   "metadata": {},
   "source": [
    "## Infer on Test Set"
   ]
  },
  {
   "cell_type": "code",
   "execution_count": null,
   "metadata": {},
   "outputs": [],
   "source": [
    "#export\n",
    "def infer_on_test_set(learn: Learner) -> Tensor:\n",
    "    path_test = Path(\"~/kaggle/plant-pathology/data/plant-pathology-2020/test.csv\")\n",
    "    df_test = pd.read_csv(path_test)\n",
    "    test_dl = learn.dls.test_dl(df_test)\n",
    "    preds, _ = learn.get_preds(dl=test_dl)\n",
    "    return preds"
   ]
  },
  {
   "cell_type": "code",
   "execution_count": null,
   "metadata": {},
   "outputs": [],
   "source": [
    "path, df = load_data()\n",
    "dls = get_dls(path, df)"
   ]
  },
  {
   "cell_type": "code",
   "execution_count": null,
   "metadata": {},
   "outputs": [
    {
     "data": {
      "text/html": [],
      "text/plain": [
       "<IPython.core.display.HTML object>"
      ]
     },
     "metadata": {},
     "output_type": "display_data"
    },
    {
     "data": {
      "text/plain": [
       "torch.Size([1821, 4])"
      ]
     },
     "execution_count": null,
     "metadata": {},
     "output_type": "execute_result"
    }
   ],
   "source": [
    "learn = cnn_learner(dls, resnet18)\n",
    "infer_on_test_set(learn).shape"
   ]
  },
  {
   "cell_type": "markdown",
   "metadata": {},
   "source": [
    "## Format Submission"
   ]
  },
  {
   "cell_type": "code",
   "execution_count": null,
   "metadata": {},
   "outputs": [],
   "source": [
    "#export\n",
    "def format_submission(preds: Tensor, save_path: Union[Path, str]) -> Path:\n",
    "    data_path = Path(\"/home/jupyter/kaggle/plant-pathology/data/plant-pathology-2020/\")\n",
    "    submission = pd.read_csv(data_path/\"sample_submission.csv\")\n",
    "    \n",
    "    # Update cols with preds\n",
    "    submission[\"healthy\"] = preds[:, 0]\n",
    "    submission[\"multiple_diseases\"] = preds[:, 1]\n",
    "    submission[\"rust\"] = preds[:, 2]\n",
    "    submission[\"scab\"] = preds[:, 3]\n",
    "    \n",
    "    # Make parent dirs\n",
    "    save_path = Path(save_path)\n",
    "    Path(save_path.parent).mkdir(parents=True, exist_ok=True)\n",
    "    submission.to_csv(save_path, index=False)\n",
    "    return save_path"
   ]
  },
  {
   "cell_type": "code",
   "execution_count": null,
   "metadata": {},
   "outputs": [
    {
     "data": {
      "text/plain": [
       "Path('TESTING.csv')"
      ]
     },
     "execution_count": null,
     "metadata": {},
     "output_type": "execute_result"
    }
   ],
   "source": [
    "fake_preds = torch.zeros(1821, 4)\n",
    "save_path = format_submission(fake_preds, \"TESTING.csv\"); save_path"
   ]
  },
  {
   "cell_type": "code",
   "execution_count": null,
   "metadata": {},
   "outputs": [],
   "source": [
    "assert save_path.exists()"
   ]
  },
  {
   "cell_type": "code",
   "execution_count": null,
   "metadata": {},
   "outputs": [],
   "source": [
    "save_path.unlink()"
   ]
  },
  {
   "cell_type": "markdown",
   "metadata": {},
   "source": [
    "## All-in-One Learner -> Submission Function"
   ]
  },
  {
   "cell_type": "code",
   "execution_count": null,
   "metadata": {},
   "outputs": [],
   "source": [
    "#export\n",
    "def evaluate(learn: Learner, save_path: Union[Path, str]=Path(\"./submission.csv\")) -> Path:\n",
    "    \"\"\"Takes trained learner, evaluates on test set, formats and saves submission.csv.\"\"\"\n",
    "    preds = infer_on_test_set(learn)\n",
    "    return format_submission(preds, save_path)"
   ]
  },
  {
   "cell_type": "code",
   "execution_count": null,
   "metadata": {},
   "outputs": [],
   "source": []
  }
 ],
 "metadata": {
  "kernelspec": {
   "display_name": "Python 3",
   "language": "python",
   "name": "python3"
  }
 },
 "nbformat": 4,
 "nbformat_minor": 4
}
